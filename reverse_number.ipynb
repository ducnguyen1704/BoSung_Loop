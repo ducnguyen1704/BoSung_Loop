{
 "cells": [
  {
   "cell_type": "markdown",
   "metadata": {},
   "source": [
    "# SỐ ĐẢO NGƯỢC:"
   ]
  },
  {
   "cell_type": "code",
   "execution_count": 4,
   "metadata": {},
   "outputs": [
    {
     "name": "stdout",
     "output_type": "stream",
     "text": [
      "Nhập vào 1 số nguyên dương: 354\n",
      "453\n"
     ]
    }
   ],
   "source": [
    "a = int(input(\"Nhập vào 1 số nguyên dương: \"))\n",
    "if a < 0:\n",
    "    print(\"Không hoàn thành\")\n",
    "else:\n",
    "    sodaonguoc = 0\n",
    "    while a > 0:\n",
    "        chusocuoi = a % 10\n",
    "        sodaonguoc = sodaonguoc * 10 + chusocuoi\n",
    "        a = a // 10\n",
    "    print(sodaonguoc)\n",
    "        \n",
    "        "
   ]
  },
  {
   "cell_type": "code",
   "execution_count": null,
   "metadata": {},
   "outputs": [],
   "source": []
  }
 ],
 "metadata": {
  "kernelspec": {
   "display_name": "Python 3",
   "language": "python",
   "name": "python3"
  },
  "language_info": {
   "codemirror_mode": {
    "name": "ipython",
    "version": 3
   },
   "file_extension": ".py",
   "mimetype": "text/x-python",
   "name": "python",
   "nbconvert_exporter": "python",
   "pygments_lexer": "ipython3",
   "version": "3.7.6"
  }
 },
 "nbformat": 4,
 "nbformat_minor": 4
}
