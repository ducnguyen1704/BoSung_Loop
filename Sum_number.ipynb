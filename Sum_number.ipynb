{
 "cells": [
  {
   "cell_type": "markdown",
   "metadata": {},
   "source": [
    "# Tính tổng các số trong khoảng\n"
   ]
  },
  {
   "cell_type": "code",
   "execution_count": 38,
   "metadata": {},
   "outputs": [
    {
     "name": "stdout",
     "output_type": "stream",
     "text": [
      "Nhập vào 2 số nguyên a và b: 1 5\n"
     ]
    }
   ],
   "source": [
    "#Nhập vào 2 số nguyên a và b, a < b\n",
    "a, b = map(int, input(\"Nhập vào 2 số nguyên a và b: \").split(\" \"))"
   ]
  },
  {
   "cell_type": "code",
   "execution_count": 40,
   "metadata": {},
   "outputs": [
    {
     "name": "stdout",
     "output_type": "stream",
     "text": [
      "1 2 3 4 5 \n",
      " Tổng các sô trong khoảng từ 1 đến 5 là: 15 \n"
     ]
    }
   ],
   "source": [
    "\n",
    "if a >= b:\n",
    "    print(\"Không có số phù hợp trong khoảng đó\")\n",
    "else:\n",
    "    total = 0\n",
    "    for i in range(a, b+1):\n",
    "        total = total + i\n",
    "        print(i, end=\" \")\n",
    "    print(\"\\n Tổng các sô trong khoảng từ {} đến {} là: {} \".format(a,b,total))"
   ]
  },
  {
   "cell_type": "code",
   "execution_count": null,
   "metadata": {},
   "outputs": [],
   "source": []
  },
  {
   "cell_type": "code",
   "execution_count": null,
   "metadata": {},
   "outputs": [],
   "source": []
  }
 ],
 "metadata": {
  "kernelspec": {
   "display_name": "Python 3",
   "language": "python",
   "name": "python3"
  },
  "language_info": {
   "codemirror_mode": {
    "name": "ipython",
    "version": 3
   },
   "file_extension": ".py",
   "mimetype": "text/x-python",
   "name": "python",
   "nbconvert_exporter": "python",
   "pygments_lexer": "ipython3",
   "version": "3.7.6"
  }
 },
 "nbformat": 4,
 "nbformat_minor": 4
}
