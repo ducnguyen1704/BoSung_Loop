{
 "cells": [
  {
   "cell_type": "markdown",
   "metadata": {},
   "source": [
    "# Bài tập số nguyên tố"
   ]
  },
  {
   "cell_type": "code",
   "execution_count": 26,
   "metadata": {},
   "outputs": [
    {
     "name": "stdout",
     "output_type": "stream",
     "text": [
      "Nhập vào một số nguyên dương lớn hơn hoặc bằng 2: 17\n",
      "Sô nguyên tố\n"
     ]
    }
   ],
   "source": [
    "num = int(input(\"Nhập vào một số nguyên dương lớn hơn hoặc bằng 2: \"))\n",
    "if num < 2:\n",
    "    print(\"Không xác định\")\n",
    "else:\n",
    "    count = 0\n",
    "    for i in range(1, num + 1):\n",
    "        if num % i == 0:\n",
    "            count += 1\n",
    "    if count == 2: # số ước bằng 2\n",
    "        print(\"Sô nguyên tố\")\n",
    "    else:\n",
    "        print(\"Không phải số nguyên tố\")\n",
    "    \n"
   ]
  },
  {
   "cell_type": "markdown",
   "metadata": {},
   "source": [
    "# Nhập vào 1 số hiển thị các số nguyên tố đầu tiên"
   ]
  },
  {
   "cell_type": "code",
   "execution_count": 1,
   "metadata": {},
   "outputs": [],
   "source": [
    "import math\n",
    "# xây dưng 1 hàm:\n",
    "def songuyento(n):\n",
    "    if n < 2:\n",
    "        return False\n",
    "    canbac2 = int(math.sqrt(n))\n",
    "    for i in range(2,canbac2+1):\n",
    "        if n % i == 0:\n",
    "            return False\n",
    "    return True\n"
   ]
  },
  {
   "cell_type": "code",
   "execution_count": 4,
   "metadata": {},
   "outputs": [
    {
     "name": "stdout",
     "output_type": "stream",
     "text": [
      "Nhập vào một số nguyên dương: 6\n",
      "6 số nguyên tố đầu tiên là:  2 3 5 7 11 13 \n"
     ]
    }
   ],
   "source": [
    "n = int(input(\"Nhập vào một số nguyên dương: \"))\n",
    "print(\"{} số nguyên tố đầu tiên là: \".format(n),end= \" \")\n",
    "dem = 0\n",
    "i = 2\n",
    "snt = \"\"\n",
    "while dem < n:\n",
    "    if(songuyento(i)):\n",
    "        snt = snt + str(i)+ \" \"\n",
    "        dem += 1\n",
    "    i += 1\n",
    "print(snt)"
   ]
  },
  {
   "cell_type": "code",
   "execution_count": null,
   "metadata": {},
   "outputs": [],
   "source": []
  }
 ],
 "metadata": {
  "kernelspec": {
   "display_name": "Python 3",
   "language": "python",
   "name": "python3"
  },
  "language_info": {
   "codemirror_mode": {
    "name": "ipython",
    "version": 3
   },
   "file_extension": ".py",
   "mimetype": "text/x-python",
   "name": "python",
   "nbconvert_exporter": "python",
   "pygments_lexer": "ipython3",
   "version": "3.7.6"
  }
 },
 "nbformat": 4,
 "nbformat_minor": 4
}
