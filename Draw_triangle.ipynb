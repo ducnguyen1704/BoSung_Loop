{
 "cells": [
  {
   "cell_type": "code",
   "execution_count": 3,
   "metadata": {},
   "outputs": [
    {
     "name": "stdout",
     "output_type": "stream",
     "text": [
      "Nhập n: 5\n",
      "Nhập ký tự vẽ(*): *\n",
      "Ve tam giac sao:\n",
      "*\n",
      "**\n",
      "***\n",
      "****\n",
      "*****\n"
     ]
    }
   ],
   "source": [
    "# Vẽ tam giác:\n",
    "n = int(input(\"Nhập n: \"))\n",
    "char = input(\"Nhập ký tự vẽ(*): \")\n",
    " \n",
    "print(\"Ve tam giac sao:\")\n",
    "for i in range(1, n + 1):\n",
    "    for j in range(1, i + 1):\n",
    "        print(char, end=\"\");\n",
    "    print()"
   ]
  },
  {
   "cell_type": "code",
   "execution_count": 58,
   "metadata": {},
   "outputs": [
    {
     "name": "stdout",
     "output_type": "stream",
     "text": [
      "Nhập n: 5\n",
      "Nhập ký tự vẽ(*): *\n",
      "Ve tam giac sao:\n",
      "*****\n",
      "****\n",
      "***\n",
      "**\n",
      "*\n"
     ]
    }
   ],
   "source": [
    "# Vẽ tam giác:\n",
    "n = int(input(\"Nhập n: \"))\n",
    "char = input(\"Nhập ký tự vẽ(*): \")\n",
    " \n",
    "print(\"Ve tam giac sao:\")\n",
    "for i in range(n+1,1,-1):\n",
    "    for j in range(1,i):\n",
    "        print(char, end=\"\");\n",
    "    print()"
   ]
  },
  {
   "cell_type": "code",
   "execution_count": 34,
   "metadata": {},
   "outputs": [
    {
     "name": "stdout",
     "output_type": "stream",
     "text": [
      "Nhập n: 5\n",
      "Nhập ký tự vẽ(*): *\n",
      "Ve tam giac sao:\n",
      " *****\n",
      "  ****\n",
      "   ***\n",
      "    **\n",
      "     *\n"
     ]
    }
   ],
   "source": [
    "n = int(input(\"Nhập n: \"))\n",
    "char = input(\"Nhập ký tự vẽ(*): \")\n",
    "\n",
    "print(\"Ve tam giac sao:\")\n",
    "for i in range(0, n):\n",
    "    for j in range(0, i+1):\n",
    "        print(\" \", end = \"\");\n",
    " \n",
    "    for j in range(i, n):\n",
    "        print(char, end = \"\");\n",
    "    print()"
   ]
  },
  {
   "cell_type": "code",
   "execution_count": 50,
   "metadata": {},
   "outputs": [
    {
     "name": "stdout",
     "output_type": "stream",
     "text": [
      "Nhập n: 6\n",
      "Nhập ký tự vẽ(*): *\n",
      "Ve tam giac sao:\n",
      "*\n",
      "**\n",
      "***\n",
      "****\n",
      "*****\n",
      "******\n"
     ]
    }
   ],
   "source": [
    "# Vẽ tam giác:\n",
    "n = int(input(\"Nhập n: \"))\n",
    "char = input(\"Nhập ký tự vẽ(*): \")\n",
    " \n",
    "print(\"Ve tam giac sao:\")\n",
    "for i in range(1,n+1):\n",
    "    for j in range(1, i + 1):\n",
    "        print(char, end=\"\");\n",
    "    print()"
   ]
  },
  {
   "cell_type": "code",
   "execution_count": null,
   "metadata": {},
   "outputs": [],
   "source": []
  }
 ],
 "metadata": {
  "kernelspec": {
   "display_name": "Python 3",
   "language": "python",
   "name": "python3"
  },
  "language_info": {
   "codemirror_mode": {
    "name": "ipython",
    "version": 3
   },
   "file_extension": ".py",
   "mimetype": "text/x-python",
   "name": "python",
   "nbconvert_exporter": "python",
   "pygments_lexer": "ipython3",
   "version": "3.7.6"
  }
 },
 "nbformat": 4,
 "nbformat_minor": 4
}
