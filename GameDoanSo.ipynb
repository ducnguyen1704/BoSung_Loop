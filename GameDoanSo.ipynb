{
 "cells": [
  {
   "cell_type": "markdown",
   "metadata": {},
   "source": [
    "# Game đoán số"
   ]
  },
  {
   "cell_type": "code",
   "execution_count": 11,
   "metadata": {},
   "outputs": [
    {
     "name": "stdout",
     "output_type": "stream",
     "text": [
      "Nhập vào số bạn dự đoán(từ 1-10): 2\n",
      "Số bạn đoán:  2\n",
      "Số ngẫu nhiên:  3\n",
      "Bạn đoán sai so với số ngẫu nhiên\n",
      "Nhập vào số bạn dự đoán(từ 1-10): 4\n",
      "Số bạn đoán:  4\n",
      "Số ngẫu nhiên:  3\n",
      "Bạn đoán sai so với số ngẫu nhiên\n",
      "Nhập vào số bạn dự đoán(từ 1-10): 5\n",
      "Số bạn đoán:  5\n",
      "Số ngẫu nhiên:  3\n",
      "Bạn đoán sai so với số ngẫu nhiên\n",
      "Nhập vào số bạn dự đoán(từ 1-10): 2\n",
      "Kết thúc\n"
     ]
    }
   ],
   "source": [
    "import random\n",
    "# Nhập vào số bạn dự đoán:\n",
    "num = int(input(\"Nhập vào số bạn dự đoán(từ 1-10): \"))\n",
    "var = random.randint(1,10)\n",
    "for i in range(3):\n",
    "    print(\"Số bạn đoán: \",num)\n",
    "    print(\"Số ngẫu nhiên: \",var)\n",
    "    if num == var:\n",
    "        print(\"Chính xác\")\n",
    "        break\n",
    "    else:\n",
    "        print(\"Bạn đoán sai so với số ngẫu nhiên\")\n",
    "        num = int(input(\"Nhập vào số bạn dự đoán(từ 1-10): \"))\n",
    "        continue\n",
    "print(\"Kết thúc\")"
   ]
  },
  {
   "cell_type": "code",
   "execution_count": null,
   "metadata": {},
   "outputs": [],
   "source": []
  }
 ],
 "metadata": {
  "kernelspec": {
   "display_name": "Python 3",
   "language": "python",
   "name": "python3"
  },
  "language_info": {
   "codemirror_mode": {
    "name": "ipython",
    "version": 3
   },
   "file_extension": ".py",
   "mimetype": "text/x-python",
   "name": "python",
   "nbconvert_exporter": "python",
   "pygments_lexer": "ipython3",
   "version": "3.7.6"
  }
 },
 "nbformat": 4,
 "nbformat_minor": 4
}
